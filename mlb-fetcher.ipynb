{
 "cells": [
  {
   "cell_type": "markdown",
   "metadata": {},
   "source": [
    "# MLB Season Data Fetcher\n",
    "\n",
    "The purpose of this Jupyter Notebook is to fetch MLB historical seasonal data to be used in a d3.js data visualization. The final output of the `.csv` file will look something like this:\n",
    "\n",
    "| date       | division                | games_played | isWinner | losses | pct   | team_name            | team_short_name | wins | \n",
    "|------------|-------------------------|--------------|----------|--------|-------|----------------------|-----------------|------| \n",
    "| 2018-03-29 | National League Central | 1            | True     | 0      | 1.000 | Chicago Cubs         | Chi Cubs        | 1    | \n",
    "| 2018-03-30 | National League Central | 1            | False    | 1      | .000  | Cincinnati Reds      | Cincinnati      | 0    | \n",
    "| 2018-03-30 | National League East    | 1            | True     | 0      | 1.000 | Washington Nationals | Washington      | 1    | \n",
    "| 2018-03-30 | American League Central | 1            | False    | 1      | .000  | Detroit Tigers       | Detroit         | 0    | \n",
    "| 2018-03-30 | National League Central | 1            | True     | 0      | 1.000 | Pittsburgh Pirates   | Pittsburgh      | 1    | \n",
    "\n",
    "## How to use it\n",
    "\n",
    "Change the cell below for the `SEASON_YEAR` to the one that you want to download\n",
    "\n",
    "Click **Cell** -> **Run All**\n",
    "\n",
    "You should have a file downloaded named `SEASON_YEAR-cumulative-season-games.csv`"
   ]
  },
  {
   "cell_type": "code",
   "execution_count": 37,
   "metadata": {},
   "outputs": [],
   "source": [
    "SEASON_YEAR = \"2018\""
   ]
  },
  {
   "cell_type": "code",
   "execution_count": 38,
   "metadata": {},
   "outputs": [],
   "source": [
    "from pathlib import Path\n",
    "import pandas as pd\n",
    "import json\n",
    "import requests\n",
    "from datetime import timedelta, date\n",
    "import datetime\n",
    "import time"
   ]
  },
  {
   "cell_type": "code",
   "execution_count": 39,
   "metadata": {},
   "outputs": [],
   "source": [
    "def save_response(response, path):\n",
    "    \"\"\"Saves a response to a file in the local filesystem. Used for caching\n",
    "    \"\"\"\n",
    "    with open(path, \"w\") as f:        \n",
    "        json.dump(response, f)"
   ]
  },
  {
   "cell_type": "code",
   "execution_count": 40,
   "metadata": {},
   "outputs": [],
   "source": [
    "def load_response(path):\n",
    "    \"\"\"Loads path that have previously been saved. Used for caching\n",
    "    \"\"\"\n",
    "    with open(path, \"r\") as f:\n",
    "        response = json.load(f)\n",
    "    return response"
   ]
  },
  {
   "cell_type": "code",
   "execution_count": 41,
   "metadata": {},
   "outputs": [],
   "source": [
    "# Get Season data (used later to get the start and end dates)\n",
    "def get_season_with_cache(year):\n",
    "    \"\"\"Get season data from given year, loading from a disk cache if available.\n",
    "    \n",
    "    The first time you call this function, it will download season for\n",
    "    that year.  Subsequent calls will not re-download the season; instead\n",
    "    they'll load the season from a save file in your local filesystem.\n",
    "   \n",
    "    Args:\n",
    "        year (str): Season year\n",
    "    \"\"\"\n",
    "\n",
    "    SEASONS_URL = \"https://statsapi.mlb.com/api/v1/seasons/\" + year\n",
    "    params = {\"sportId\": 1}\n",
    "    season_save_path = year + '_season.json'\n",
    "    if not Path(season_save_path).is_file():\n",
    "        print(\"Cached season not found for \" + year)\n",
    "        season_result = requests.get(SEASONS_URL, params=params)\n",
    "        season_result_data = season_result.json()\n",
    "        save_response(season_result_data, season_save_path)\n",
    "        return season_result_data\n",
    "    else:\n",
    "        print(\"Cached season found for \" + year)\n",
    "        season_result = load_response(season_save_path)\n",
    "    \n",
    "    return season_result"
   ]
  },
  {
   "cell_type": "code",
   "execution_count": 42,
   "metadata": {},
   "outputs": [],
   "source": [
    "# Get Games data (used later to get the start and end dates)\n",
    "def get_games_with_cache(start_date, end_date):\n",
    "    \"\"\"Get result data for a given date, loading from a disk cache if available.\n",
    "    \n",
    "    The first time you call this function, it will download data for\n",
    "    that date.  Subsequent calls will not re-download the data; instead\n",
    "    they'll load the standings from a save file in your local filesystem.\n",
    "   \n",
    "    Args:\n",
    "        start_date (str): Date formatted like YYYY-MM-DD, e.g. 2017-05-30\n",
    "        end_date (str): Date formatted like YYYY-MM-DD, e.g. 2017-05-30\n",
    "    \"\"\"\n",
    "    games_url = f\"https://statsapi.mlb.com/api/v1/schedule?sportId=1&startDate={start_date}&endDate={end_date}&language=en\"\n",
    "    print(start_date)\n",
    "    games_save_path = start_date + \"--\" + end_date + \"_games.json\"\n",
    "    if not Path(games_save_path).is_file():\n",
    "        games_result = requests.get(games_url)\n",
    "        while games_result.status_code != 200:\n",
    "            print(\"Status code: \", games_result.status_code)\n",
    "            print(\"Retrying in 3 secs...\")\n",
    "            time.sleep(3)\n",
    "            games_result = requests.get(games_url)\n",
    "        games_result_data = games_result.json()\n",
    "        save_response(games_result_data, games_save_path)\n",
    "        return games_result_data\n",
    "    else:\n",
    "        games_result = load_response(games_save_path)\n",
    "    \n",
    "    return games_result"
   ]
  },
  {
   "cell_type": "code",
   "execution_count": 43,
   "metadata": {},
   "outputs": [],
   "source": [
    "def get_season_start_and_end_dates(season):\n",
    "    return season['seasons'][0]['regularSeasonStartDate'], season['seasons'][0]['regularSeasonEndDate']"
   ]
  },
  {
   "cell_type": "code",
   "execution_count": 49,
   "metadata": {},
   "outputs": [],
   "source": [
    "def get_team_data(team_id, year):\n",
    "    \"\"\"This gets the team data for each year.\n",
    "    We need this data on a per-year basis so that the teams and their divisions\n",
    "    line up properly. The games data doesn't include the divisions of each team\n",
    "    so we need to look that up. Teams have moved divisions throughout history\n",
    "    which is why we need to look it up.\n",
    "    \"\"\"\n",
    "    team_url = f\"https://statsapi.mlb.com/api/v1/teams/{team_id}?season={year}\"\n",
    "    team_save_path = f\"{year}-{str(team_id)}_team.json\"\n",
    "    if not Path(team_save_path).is_file():\n",
    "        team_result = requests.get(team_url)\n",
    "        while team_result.status_code != 200:\n",
    "            print(\"Status code: \", team_result.status_code)\n",
    "            print(\"Retrying in 3 secs...\")\n",
    "            time.sleep(3)\n",
    "            team_result = requests.get(team_url)\n",
    "        team_result_data = team_result.json()\n",
    "        save_response(team_result_data, team_save_path)\n",
    "        return team_result_data\n",
    "    else:\n",
    "        team_result = load_response(team_save_path)\n",
    "    \n",
    "    return team_result"
   ]
  },
  {
   "cell_type": "code",
   "execution_count": 45,
   "metadata": {
    "scrolled": true
   },
   "outputs": [
    {
     "name": "stdout",
     "output_type": "stream",
     "text": [
      "Cached season found for 2017\n"
     ]
    }
   ],
   "source": [
    "season = get_season_with_cache(SEASON_YEAR)\n",
    "season_date_range = get_season_start_and_end_dates(season)"
   ]
  },
  {
   "cell_type": "code",
   "execution_count": 46,
   "metadata": {},
   "outputs": [
    {
     "name": "stdout",
     "output_type": "stream",
     "text": [
      "2017-04-02\n"
     ]
    }
   ],
   "source": [
    "# yes, you see that correctly, a triple-nested for loop. O(n^3)\n",
    "# optimize if you wish, but it's fast enough for this small data set imo\n",
    "\n",
    "start_date = season_date_range[0]\n",
    "end_date = season_date_range[1]\n",
    "results = []\n",
    "\n",
    "games_data = get_games_with_cache(start_date, end_date)\n",
    "dates = games_data['dates']\n",
    "for date in dates:\n",
    "    games = date['games']\n",
    "    for game in games:\n",
    "        if game['seriesDescription'] == \"Regular Season\":\n",
    "            teams = [game['teams']['away'], game['teams']['home']]\n",
    "            for team in teams:\n",
    "                # If isWinner doesn't exist, then the game was postponed\n",
    "                team_data = get_team_data(str(team['team']['id']), SEASON_YEAR)\n",
    "                if \"isWinner\" in team and \"division\" in team_data['teams'][0]:\n",
    "                    team_result = {\n",
    "                        \"team_name\": team['team']['name'],\n",
    "                        \"wins\": int(team['leagueRecord']['wins']),\n",
    "                        \"losses\": int(team['leagueRecord']['losses']),\n",
    "                        \"division\": team_data['teams'][0]['division']['name'],\n",
    "                        \"team_short_name\": team_data['teams'][0]['shortName'],\n",
    "                        \"games_played\": int(team['leagueRecord']['wins'])+int(team['leagueRecord']['losses']),\n",
    "                        \"pct\": team[\"leagueRecord\"]['pct'],\n",
    "                        \"date\": date['date'],\n",
    "                        \"isWinner\": bool(team[\"isWinner\"])\n",
    "                    }\n",
    "                    results.append(team_result)\n"
   ]
  },
  {
   "cell_type": "code",
   "execution_count": 47,
   "metadata": {},
   "outputs": [],
   "source": [
    "df = pd.DataFrame(results)\n",
    "df.sort_values(by=['games_played'], inplace=True)"
   ]
  },
  {
   "cell_type": "code",
   "execution_count": 48,
   "metadata": {},
   "outputs": [],
   "source": [
    "df.to_csv(f\"{SEASON_YEAR}-cumulative-season-games.csv\", index=False)"
   ]
  }
 ],
 "metadata": {
  "kernelspec": {
   "display_name": "Python 3",
   "language": "python",
   "name": "python3"
  },
  "language_info": {
   "codemirror_mode": {
    "name": "ipython",
    "version": 3
   },
   "file_extension": ".py",
   "mimetype": "text/x-python",
   "name": "python",
   "nbconvert_exporter": "python",
   "pygments_lexer": "ipython3",
   "version": "3.7.0"
  }
 },
 "nbformat": 4,
 "nbformat_minor": 2
}
